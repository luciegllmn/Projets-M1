{
 "cells": [
  {
   "cell_type": "markdown",
   "metadata": {},
   "source": [
    "----\n",
    "# Exercice 2\n",
    "----\n",
    "# Chargement des packages "
   ]
  },
  {
   "cell_type": "code",
   "execution_count": 1,
   "metadata": {},
   "outputs": [],
   "source": [
    "#Annexe(1)"
   ]
  },
  {
   "cell_type": "markdown",
   "metadata": {},
   "source": [
    "Tout d'abord nous avons rencontré des problèmes de saisie du tableau. \n",
    "En effet, celui-ci a été encodé sous un autre format que le format utf8 standart, nous allons ainsi procéder grâce à la fonction `detect` dans le package `chardet`, retrouver le type utilisé afin de permettre à `read_csv` d'importer notre tableau de données."
   ]
  },
  {
   "cell_type": "code",
   "execution_count": 2,
   "metadata": {},
   "outputs": [
    {
     "name": "stdout",
     "output_type": "stream",
     "text": [
      "Windows-1252\n"
     ]
    }
   ],
   "source": [
    "#Annexe(2)"
   ]
  },
  {
   "cell_type": "markdown",
   "metadata": {},
   "source": [
    "# Chargement des données "
   ]
  },
  {
   "cell_type": "markdown",
   "metadata": {},
   "source": [
    "On dispose ici de trois jeu de données : un jeu de donnée `data_com_train`, un  `data_com_test` et un `purchases`. \n",
    "Le jeu de donnée `data_com_train` est  le jeu de donnée d'entraînement, qui dispose des champs suivant : \n",
    "- `category id` : identiﬁant de la catégorie du produit (entier entre 0 et 19)\n",
    "- `category` : nom de la catégorie du produit\n",
    "- `title` : titre du produit \n",
    "- `description` : description du produit\n",
    "\n",
    "Le jeu de donnée `data_com_test` est le jeu sur lequelle nous allons tester notre apprentissage, il dipose des champs suivant :\n",
    "- `title` : titre du produit \n",
    "- `description` : description du produit\n",
    "\n",
    "Le jeu de donnée `purchases` contient la liste des achats réalisés le 1er septembre 2017. Les\n",
    "champs sont les suivants : \n",
    "- time : date et heure d'achat du produit \n",
    "- amount : prix en euros du produit acheté"
   ]
  },
  {
   "cell_type": "code",
   "execution_count": 3,
   "metadata": {},
   "outputs": [
    {
     "data": {
      "text/html": [
       "<div>\n",
       "<style scoped>\n",
       "    .dataframe tbody tr th:only-of-type {\n",
       "        vertical-align: middle;\n",
       "    }\n",
       "\n",
       "    .dataframe tbody tr th {\n",
       "        vertical-align: top;\n",
       "    }\n",
       "\n",
       "    .dataframe thead th {\n",
       "        text-align: right;\n",
       "    }\n",
       "</style>\n",
       "<table border=\"1\" class=\"dataframe\">\n",
       "  <thead>\n",
       "    <tr style=\"text-align: right;\">\n",
       "      <th></th>\n",
       "      <th>category_id</th>\n",
       "      <th>category</th>\n",
       "      <th>title</th>\n",
       "      <th>description</th>\n",
       "    </tr>\n",
       "  </thead>\n",
       "  <tbody>\n",
       "    <tr>\n",
       "      <td>0</td>\n",
       "      <td>0</td>\n",
       "      <td>TELEPHONIE - GPS | ACCESSOIRE TELEPHONE | COQU...</td>\n",
       "      <td>Coque  Samsung ACE S5830 Cassette audio transpa…</td>\n",
       "      <td>Coque  Samsung ACE S5830 Cassette audio transp...</td>\n",
       "    </tr>\n",
       "    <tr>\n",
       "      <td>1</td>\n",
       "      <td>0</td>\n",
       "      <td>TELEPHONIE - GPS | ACCESSOIRE TELEPHONE | COQU...</td>\n",
       "      <td>Coque rigide Violette pour NOKIA LUMIA 625 moti…</td>\n",
       "      <td>Coque rigide Violette pour NOKIA LUMIA 625 mot...</td>\n",
       "    </tr>\n",
       "    <tr>\n",
       "      <td>2</td>\n",
       "      <td>0</td>\n",
       "      <td>TELEPHONIE - GPS | ACCESSOIRE TELEPHONE | COQU...</td>\n",
       "      <td>Coque rigide Rose bonbon pour HUAWEI ASCEND P2 …</td>\n",
       "      <td>Coque rigide Rose bonbon pour HUAWEI ASCEND P2...</td>\n",
       "    </tr>\n",
       "    <tr>\n",
       "      <td>3</td>\n",
       "      <td>0</td>\n",
       "      <td>TELEPHONIE - GPS | ACCESSOIRE TELEPHONE | COQU...</td>\n",
       "      <td>Coque souple Grise pour SONY XPERIA Z1 motif Dr…</td>\n",
       "      <td>Coque souple Grise pour SONY XPERIA Z1 motif D...</td>\n",
       "    </tr>\n",
       "    <tr>\n",
       "      <td>4</td>\n",
       "      <td>0</td>\n",
       "      <td>TELEPHONIE - GPS | ACCESSOIRE TELEPHONE | COQU...</td>\n",
       "      <td>Coque HTC One S 4,3'' – Dessin Tête de Girafe ...</td>\n",
       "      <td>Coque HTC One S 4,3'' – Dessin Tête de Girafe ...</td>\n",
       "    </tr>\n",
       "  </tbody>\n",
       "</table>\n",
       "</div>"
      ],
      "text/plain": [
       "   category_id                                           category  \\\n",
       "0            0  TELEPHONIE - GPS | ACCESSOIRE TELEPHONE | COQU...   \n",
       "1            0  TELEPHONIE - GPS | ACCESSOIRE TELEPHONE | COQU...   \n",
       "2            0  TELEPHONIE - GPS | ACCESSOIRE TELEPHONE | COQU...   \n",
       "3            0  TELEPHONIE - GPS | ACCESSOIRE TELEPHONE | COQU...   \n",
       "4            0  TELEPHONIE - GPS | ACCESSOIRE TELEPHONE | COQU...   \n",
       "\n",
       "                                               title  \\\n",
       "0   Coque  Samsung ACE S5830 Cassette audio transpa…   \n",
       "1   Coque rigide Violette pour NOKIA LUMIA 625 moti…   \n",
       "2   Coque rigide Rose bonbon pour HUAWEI ASCEND P2 …   \n",
       "3   Coque souple Grise pour SONY XPERIA Z1 motif Dr…   \n",
       "4  Coque HTC One S 4,3'' – Dessin Tête de Girafe ...   \n",
       "\n",
       "                                         description  \n",
       "0  Coque  Samsung ACE S5830 Cassette audio transp...  \n",
       "1  Coque rigide Violette pour NOKIA LUMIA 625 mot...  \n",
       "2  Coque rigide Rose bonbon pour HUAWEI ASCEND P2...  \n",
       "3  Coque souple Grise pour SONY XPERIA Z1 motif D...  \n",
       "4  Coque HTC One S 4,3'' – Dessin Tête de Girafe ...  "
      ]
     },
     "execution_count": 3,
     "metadata": {},
     "output_type": "execute_result"
    }
   ],
   "source": [
    "#Annexe(3)\n",
    "#Data_com_train"
   ]
  },
  {
   "cell_type": "code",
   "execution_count": 4,
   "metadata": {},
   "outputs": [
    {
     "data": {
      "text/html": [
       "<div>\n",
       "<style scoped>\n",
       "    .dataframe tbody tr th:only-of-type {\n",
       "        vertical-align: middle;\n",
       "    }\n",
       "\n",
       "    .dataframe tbody tr th {\n",
       "        vertical-align: top;\n",
       "    }\n",
       "\n",
       "    .dataframe thead th {\n",
       "        text-align: right;\n",
       "    }\n",
       "</style>\n",
       "<table border=\"1\" class=\"dataframe\">\n",
       "  <thead>\n",
       "    <tr style=\"text-align: right;\">\n",
       "      <th></th>\n",
       "      <th>id</th>\n",
       "      <th>title</th>\n",
       "      <th>description</th>\n",
       "    </tr>\n",
       "  </thead>\n",
       "  <tbody>\n",
       "    <tr>\n",
       "      <td>0</td>\n",
       "      <td>0</td>\n",
       "      <td>HTC One X / X+ coque dure case noir - Naives K...</td>\n",
       "      <td>HTC One X / X+ coque dure case noir - Naives K...</td>\n",
       "    </tr>\n",
       "    <tr>\n",
       "      <td>1</td>\n",
       "      <td>1</td>\n",
       "      <td>Xoxo XO1084 femmes Montre</td>\n",
       "      <td>Xoxo XO1084 femmes Montre - Acheter Authentiqu...</td>\n",
       "    </tr>\n",
       "    <tr>\n",
       "      <td>2</td>\n",
       "      <td>2</td>\n",
       "      <td>L'Europe et la Révolution française. I, Les mo...</td>\n",
       "      <td>Albert Sorel</td>\n",
       "    </tr>\n",
       "    <tr>\n",
       "      <td>3</td>\n",
       "      <td>3</td>\n",
       "      <td>Kit Gros Freins K-Sport 8 Pistons RENAULT NEW  …</td>\n",
       "      <td>Kit Gros Freins K-Sport 8 Pistons RENAULT NEW ...</td>\n",
       "    </tr>\n",
       "    <tr>\n",
       "      <td>4</td>\n",
       "      <td>4</td>\n",
       "      <td>Chargeur + Chargeur allume cigare + Cable USB +…</td>\n",
       "      <td>Chargeur + Chargeur allume cigare + Cable USB ...</td>\n",
       "    </tr>\n",
       "  </tbody>\n",
       "</table>\n",
       "</div>"
      ],
      "text/plain": [
       "   id                                              title  \\\n",
       "0   0  HTC One X / X+ coque dure case noir - Naives K...   \n",
       "1   1                          Xoxo XO1084 femmes Montre   \n",
       "2   2  L'Europe et la Révolution française. I, Les mo...   \n",
       "3   3   Kit Gros Freins K-Sport 8 Pistons RENAULT NEW  …   \n",
       "4   4   Chargeur + Chargeur allume cigare + Cable USB +…   \n",
       "\n",
       "                                         description  \n",
       "0  HTC One X / X+ coque dure case noir - Naives K...  \n",
       "1  Xoxo XO1084 femmes Montre - Acheter Authentiqu...  \n",
       "2                                       Albert Sorel  \n",
       "3  Kit Gros Freins K-Sport 8 Pistons RENAULT NEW ...  \n",
       "4  Chargeur + Chargeur allume cigare + Cable USB ...  "
      ]
     },
     "execution_count": 4,
     "metadata": {},
     "output_type": "execute_result"
    }
   ],
   "source": [
    "#Annexe(4)\n",
    "#Data_com_test"
   ]
  },
  {
   "cell_type": "code",
   "execution_count": 5,
   "metadata": {},
   "outputs": [
    {
     "data": {
      "text/html": [
       "<div>\n",
       "<style scoped>\n",
       "    .dataframe tbody tr th:only-of-type {\n",
       "        vertical-align: middle;\n",
       "    }\n",
       "\n",
       "    .dataframe tbody tr th {\n",
       "        vertical-align: top;\n",
       "    }\n",
       "\n",
       "    .dataframe thead th {\n",
       "        text-align: right;\n",
       "    }\n",
       "</style>\n",
       "<table border=\"1\" class=\"dataframe\">\n",
       "  <thead>\n",
       "    <tr style=\"text-align: right;\">\n",
       "      <th></th>\n",
       "      <th>time</th>\n",
       "      <th>amount</th>\n",
       "    </tr>\n",
       "  </thead>\n",
       "  <tbody>\n",
       "    <tr>\n",
       "      <td>0</td>\n",
       "      <td>2017-09-01 00:00:05</td>\n",
       "      <td>9.950000</td>\n",
       "    </tr>\n",
       "    <tr>\n",
       "      <td>1</td>\n",
       "      <td>2017-09-01 00:00:05</td>\n",
       "      <td>10.890000</td>\n",
       "    </tr>\n",
       "    <tr>\n",
       "      <td>2</td>\n",
       "      <td>2017-09-01 00:00:09</td>\n",
       "      <td>26.990000</td>\n",
       "    </tr>\n",
       "    <tr>\n",
       "      <td>3</td>\n",
       "      <td>2017-09-01 00:00:16</td>\n",
       "      <td>285.679993</td>\n",
       "    </tr>\n",
       "    <tr>\n",
       "      <td>4</td>\n",
       "      <td>2017-09-01 00:00:18</td>\n",
       "      <td>14.990000</td>\n",
       "    </tr>\n",
       "  </tbody>\n",
       "</table>\n",
       "</div>"
      ],
      "text/plain": [
       "                  time      amount\n",
       "0  2017-09-01 00:00:05    9.950000\n",
       "1  2017-09-01 00:00:05   10.890000\n",
       "2  2017-09-01 00:00:09   26.990000\n",
       "3  2017-09-01 00:00:16  285.679993\n",
       "4  2017-09-01 00:00:18   14.990000"
      ]
     },
     "execution_count": 5,
     "metadata": {},
     "output_type": "execute_result"
    }
   ],
   "source": [
    "#Annexe(5)\n",
    "#Purchases"
   ]
  },
  {
   "cell_type": "markdown",
   "metadata": {},
   "source": [
    "## Question 1\n",
    "Notre objectif dans cette partie est d'écrire un algorithme de classiﬁcation supervisée qui prévoit la catégorie d’un produit à partir de son titre et de sa description. \n",
    "\n",
    "#### Création des vecteurs One Hot : "
   ]
  },
  {
   "cell_type": "code",
   "execution_count": 6,
   "metadata": {},
   "outputs": [],
   "source": [
    "#Annexe(6)"
   ]
  },
  {
   "cell_type": "markdown",
   "metadata": {},
   "source": [
    "#### Adaptation à un modèle : "
   ]
  },
  {
   "cell_type": "code",
   "execution_count": 7,
   "metadata": {},
   "outputs": [],
   "source": [
    "#Annexe(7)"
   ]
  },
  {
   "cell_type": "markdown",
   "metadata": {},
   "source": [
    "#### Nous allons utiliser une forêt aléatoire comme modèle de prédiction : "
   ]
  },
  {
   "cell_type": "code",
   "execution_count": 8,
   "metadata": {},
   "outputs": [
    {
     "data": {
      "text/plain": [
       "RandomForestClassifier(bootstrap=True, ccp_alpha=0.0, class_weight=None,\n",
       "                       criterion='gini', max_depth=None, max_features='auto',\n",
       "                       max_leaf_nodes=None, max_samples=None,\n",
       "                       min_impurity_decrease=0.0, min_impurity_split=None,\n",
       "                       min_samples_leaf=1, min_samples_split=2,\n",
       "                       min_weight_fraction_leaf=0.0, n_estimators=100,\n",
       "                       n_jobs=None, oob_score=False, random_state=None,\n",
       "                       verbose=0, warm_start=False)"
      ]
     },
     "execution_count": 8,
     "metadata": {},
     "output_type": "execute_result"
    }
   ],
   "source": [
    "#Annexe(8)"
   ]
  },
  {
   "cell_type": "code",
   "execution_count": 9,
   "metadata": {},
   "outputs": [
    {
     "data": {
      "text/plain": [
       "0.9715"
      ]
     },
     "execution_count": 9,
     "metadata": {},
     "output_type": "execute_result"
    }
   ],
   "source": [
    "#Annexe(9)"
   ]
  },
  {
   "cell_type": "markdown",
   "metadata": {},
   "source": [
    "Le modèle est donc fiable à 97%.\n",
    "\n",
    "#### On essaye maintenant sur notre datatest :"
   ]
  },
  {
   "cell_type": "code",
   "execution_count": 10,
   "metadata": {},
   "outputs": [
    {
     "data": {
      "text/plain": [
       "array([15, 15, 15, ..., 15, 15, 15], dtype=int64)"
      ]
     },
     "execution_count": 10,
     "metadata": {},
     "output_type": "execute_result"
    }
   ],
   "source": [
    "#Annexe(10)"
   ]
  },
  {
   "cell_type": "markdown",
   "metadata": {},
   "source": [
    "On voit donc que pour notre première ligne dans notre jeu de données `data_com_test`, la catégorie prédite est la 15.  \n",
    "De la même façon, on arrive à prédire nos autres lignes de notre jeu de données."
   ]
  },
  {
   "cell_type": "markdown",
   "metadata": {},
   "source": [
    "# Question 2 \n",
    "Notre objectif dans cette partie est d'écrirer un programme pour estimer la fonction de densitée de probabilitée\n",
    "conjointe, par la méthode d'estimation par noyau et nous illustrerons la fonction sous forme de\n",
    "carte de chaleur."
   ]
  },
  {
   "cell_type": "code",
   "execution_count": 11,
   "metadata": {},
   "outputs": [
    {
     "data": {
      "image/png": "[encoded data removed]",
      "text/plain": [
       "<Figure size 432x288 with 1 Axes>"
      ]
     },
     "metadata": {
      "needs_background": "light"
     },
     "output_type": "display_data"
    }
   ],
   "source": [
    "#Annexe(11)"
   ]
  },
  {
   "cell_type": "code",
   "execution_count": 12,
   "metadata": {},
   "outputs": [
    {
     "data": {
      "text/plain": [
       "<matplotlib.axes._subplots.AxesSubplot at 0x157596bca20>"
      ]
     },
     "execution_count": 12,
     "metadata": {},
     "output_type": "execute_result"
    },
    {
     "data": {
      "image/png": "[encoded data removed]",
      "text/plain": [
       "<Figure size 432x288 with 2 Axes>"
      ]
     },
     "metadata": {
      "needs_background": "light"
     },
     "output_type": "display_data"
    }
   ],
   "source": [
    "#Annexe(12)"
   ]
  },
  {
   "cell_type": "code",
   "execution_count": 13,
   "metadata": {},
   "outputs": [
    {
     "data": {
      "text/plain": [
       "<matplotlib.axes._subplots.AxesSubplot at 0x157597d46d8>"
      ]
     },
     "execution_count": 13,
     "metadata": {},
     "output_type": "execute_result"
    },
    {
     "data": {
      "image/png": "[encoded data removed]",
      "text/plain": [
       "<Figure size 432x288 with 2 Axes>"
      ]
     },
     "metadata": {
      "needs_background": "light"
     },
     "output_type": "display_data"
    }
   ],
   "source": [
    "#Annexe(13)"
   ]
  },
  {
   "cell_type": "markdown",
   "metadata": {},
   "source": [
    "----\n",
    "# Annexe "
   ]
  },
  {
   "cell_type": "code",
   "execution_count": null,
   "metadata": {},
   "outputs": [],
   "source": [
    "#Annexe(1)\n",
    "import numpy as np\n",
    "import seaborn as sb\n",
    "import matplotlib.pyplot as plt\n",
    "import pandas as pd\n",
    "from sklearn.feature_extraction.text import CountVectorizer\n",
    "from sklearn.model_selection import train_test_split\n",
    "from sklearn.ensemble import RandomForestClassifier\n",
    "from scipy import stats\n",
    "import datetime"
   ]
  },
  {
   "cell_type": "code",
   "execution_count": null,
   "metadata": {},
   "outputs": [],
   "source": [
    "#Annexe(2)\n",
    "import chardet\n",
    "with open(\"train.csv\", 'rb') as rawdata:\n",
    "    result = chardet.detect(rawdata.read(15000))\n",
    "\n",
    "# check what the character encoding might be\n",
    "print(result['encoding'])"
   ]
  },
  {
   "cell_type": "code",
   "execution_count": null,
   "metadata": {},
   "outputs": [],
   "source": [
    "#Annexe(3)\n",
    "data_com_train = pd.read_csv(\"train.csv\", sep = \",\",encoding = result[\"encoding\"])\n",
    "data_com_train.head()"
   ]
  },
  {
   "cell_type": "code",
   "execution_count": null,
   "metadata": {},
   "outputs": [],
   "source": [
    "#Annexe(4)\n",
    "data_com_test = pd.read_csv(\"test.csv\",encoding = result[\"encoding\"])\n",
    "data_com_test.head()"
   ]
  },
  {
   "cell_type": "code",
   "execution_count": null,
   "metadata": {},
   "outputs": [],
   "source": [
    "#Annexe(5)\n",
    "purchases = pd.read_csv('purchases.csv', header = 0, sep = ',')\n",
    "purchases.head()"
   ]
  },
  {
   "cell_type": "code",
   "execution_count": null,
   "metadata": {},
   "outputs": [],
   "source": [
    "#Annexe(6)\n",
    "def One_hot_func(data_commerce):\n",
    "#pour la description\n",
    "    count_vect = CountVectorizer(max_features=2000) # on prend les 2000 mots les plus importants\n",
    "    e_comm_counts = count_vect.fit(data_commerce.description)\n",
    "    e_comm_counts_trans = e_comm_counts.transform(data_commerce.description)\n",
    "\n",
    "#pour le title\n",
    "    count_vect3 = CountVectorizer(max_features=2000)\n",
    "    e_comm_counts3 = count_vect3.fit(data_commerce.title)\n",
    "    e_comm_counts3_trans = e_comm_counts3.transform(data_commerce.title)\n",
    "\n",
    "    data_onehot_ecom1 = pd.DataFrame(e_comm_counts_trans.toarray())\n",
    "    data_onehot_ecom3 = pd.DataFrame(e_comm_counts3_trans.toarray())\n",
    "    \n",
    "#regroupement de tous nos one hot en un seul dataframe\n",
    "    data_onehot = pd.concat([data_onehot_ecom1, data_onehot_ecom3], axis=1)\n",
    "    return data_onehot\n",
    "\n",
    "data_onehot_com = One_hot_func(data_com_train)"
   ]
  },
  {
   "cell_type": "code",
   "execution_count": null,
   "metadata": {},
   "outputs": [],
   "source": [
    "#Annexe(7)\n",
    "X_train, X_test, Y_train, Y_test = train_test_split(data_onehot_com, data_com_train.category_id, test_size = 0.2)"
   ]
  },
  {
   "cell_type": "code",
   "execution_count": null,
   "metadata": {},
   "outputs": [],
   "source": [
    "#Annexe(8)\n",
    "modelF = RandomForestClassifier()\n",
    "modelF.fit(X_train, Y_train)"
   ]
  },
  {
   "cell_type": "code",
   "execution_count": null,
   "metadata": {},
   "outputs": [],
   "source": [
    "#Annexe(9)\n",
    "modelF.score(X_test, Y_test)"
   ]
  },
  {
   "cell_type": "code",
   "execution_count": null,
   "metadata": {},
   "outputs": [],
   "source": [
    "#Annexe(10)\n",
    "test_onehot = One_hot_func(data_com_test)\n",
    "modelF.predict(test_onehot)"
   ]
  },
  {
   "cell_type": "code",
   "execution_count": null,
   "metadata": {},
   "outputs": [],
   "source": [
    "#Annexe(11)\n",
    "def nombre_min(vect):\n",
    "    date1=datetime.datetime.strptime(vect[0],'%Y-%m-%d %H:%M:%S')\n",
    "    vect1=[0]\n",
    "    for i in range(1,len(vect)):\n",
    "        date=datetime.datetime.strptime(vect[i],'%Y-%m-%d %H:%M:%S')\n",
    "        nbr=(date-date1).total_seconds()\n",
    "        vect1.append(nbr/60)\n",
    "    return(vect1)\n",
    "\n",
    "m1=nombre_min(purchases.iloc[:,0])\n",
    "m2=purchases.iloc[:,1]\n",
    "\n",
    "xmin = min(m1)\n",
    "xmax = max(m1)\n",
    "ymin = min(m2)\n",
    "ymax = max(m2)\n",
    "\n",
    "X, Y = np.mgrid[xmin:xmax:100j, ymin:ymax:100j]\n",
    "positions = np.vstack([X.ravel(), Y.ravel()])\n",
    "values = np.vstack([m1, m2])\n",
    "kernel = stats.gaussian_kde(values)\n",
    "Z = np.reshape(kernel(positions).T, X.shape)\n",
    "\n",
    "fig,ax = plt.subplots()\n",
    "ax.imshow(np.rot90(Z), cmap=plt.cm.gist_earth_r, extent=[xmin, xmax, ymin, ymax])\n",
    "ax.plot(m1, m2, 'k.', markersize=2)\n",
    "ax.set_xlim([xmin, xmax])\n",
    "ax.set_ylim([ymin, ymax])\n",
    "plt.show()"
   ]
  },
  {
   "cell_type": "code",
   "execution_count": null,
   "metadata": {},
   "outputs": [],
   "source": [
    "#Annexe(12)\n",
    "sb.heatmap(values)"
   ]
  },
  {
   "cell_type": "code",
   "execution_count": null,
   "metadata": {},
   "outputs": [],
   "source": [
    "#Annexe(13)\n",
    "sb.heatmap(Z)"
   ]
  }
 ],
 "metadata": {
  "kernelspec": {
   "display_name": "Python 3",
   "language": "python",
   "name": "python3"
  },
  "language_info": {
   "codemirror_mode": {
    "name": "ipython",
    "version": 3
   },
   "file_extension": ".py",
   "mimetype": "text/x-python",
   "name": "python",
   "nbconvert_exporter": "python",
   "pygments_lexer": "ipython3",
   "version": "3.7.3"
  }
 },
 "nbformat": 4,
 "nbformat_minor": 4
}
